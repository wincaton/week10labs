{
 "cells": [
  {
   "cell_type": "markdown",
   "id": "57e3114c",
   "metadata": {},
   "source": [
    "## Week 10 Independent Lab Winston Caton"
   ]
  },
  {
   "cell_type": "code",
   "execution_count": null,
   "id": "c2984c55",
   "metadata": {},
   "outputs": [],
   "source": [
    "import os\n",
    "import numpy as np\n",
    "import pandas as pd\n",
    "import matplotlib.pyplot as plt\n",
    "\n",
    "from sklearn.model_selection import train_test_split\n",
    "\n",
    "# for pca\n",
    "from sklearn import preprocessing\n",
    "from sklearn.decomposition import PCA as pca\n",
    "\n",
    "# for factor analysis\n",
    "from factor_analyzer import FactorAnalyzer\n",
    "from factor_analyzer.factor_analyzer import calculate_bartlett_sphericity\n",
    "from factor_analyzer.factor_analyzer import calculate_kmo\n",
    "\n",
    "# for k-means clustering \n",
    "import sklearn.metrics as metcs\n",
    "from scipy.cluster import hierarchy as hier\n",
    "from sklearn import cluster as cls\n",
    "\n",
    "# for decision tree \n",
    "from sklearn.feature_extraction.image import grid_to_graph\n",
    "from sklearn import tree\n",
    "\n",
    "# modules for plotting trees\n",
    "from sklearn.tree import export_graphviz\n",
    "import graphviz\n",
    "from IPython.display import display"
   ]
  },
  {
   "cell_type": "markdown",
   "id": "3e14c759",
   "metadata": {},
   "source": [
    "# Independent Lab: Decision Trees\n",
    "\n",
    "In this assignment you will practice implementing decision trees in Python. You will use the data in the [`calihospital.txt` file](https://github.com/UM-BGEN632/week10labs/blob/main/data/calihospital.text) provided within the `data` folder.. \n",
    "\n",
    "## Context \n",
    "\n",
    "Recall that you belong to a team assigned to assess the condition of the healthcare system in California. You currently work in the Information Systems department for a consulting firm working with the state government agency that oversees the healthcare system in California. \n",
    "\n",
    "## Classification Trees and Regression Trees\n",
    "\n",
    "In the previous weeks, your supervisor tasked you with subsetting and describing hospital data. Now, they would like you assess the data and build initial models. Specifically, they would like you to build decision trees. \n",
    "\n",
    "This assignment requires you to build *classification* trees and *regression* trees.\n",
    "\n",
    "Decide on the predictor variables you use for these analyses. Have at least one categorical predictor and one numerical predictor. In total, have at least three predictors per model. Keep in mind that some of the variables are highly correlated (e.g., Operating Revenue and Net Patient Revenue) and should not be modeled together.\n",
    "\n",
    "* Using `operating income` as a target variable, create a tree\n",
    "* Using `operating revenue` as a target variable, create a tree \n",
    "* Using `TypeControl` as a target variable, create a tree\n",
    "* Using `DonorType` as a target variable, create a tree\n",
    "\n",
    "Now that you have built several different trees, you need to assess each one.\n",
    "\n",
    "* Interpret your findings for these trees. Explain why you think the splits you received make sense.\n",
    "* Which of these trees would you choose as your best model? Justify your position.\n",
    "  * Note that you do not have to use an objective assessment, such as scoring predicted values, due to the small sample size.\n",
    " \n",
    "**Save your notebook with code output and responses to the questions outlined above. Responses should be provided in Markdown cells. Then submit your notebook for grading.**"
   ]
  }
 ],
 "metadata": {
  "language_info": {
   "name": "python"
  }
 },
 "nbformat": 4,
 "nbformat_minor": 5
}
